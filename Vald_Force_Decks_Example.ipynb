{
 "cells": [
  {
   "cell_type": "code",
   "execution_count": null,
   "metadata": {},
   "outputs": [],
   "source": [
    "import pandas as pd\n",
    "from datetime import datetime\n",
    "\n",
    "import matplotlib.pyplot as plt\n",
    "import plotly.express as px\n",
    "import plotly.graph_objects as go\n",
    "\n",
    "import vald_api_utilities as vau\n",
    "import vald_forceDeck_api as vfda\n",
    "\n",
    "%load_ext autoreload\n",
    "%autoreload 2"
   ]
  },
  {
   "cell_type": "markdown",
   "metadata": {},
   "source": [
    "# Initialize organizational parameters\n",
    "Vald should provide a \"Client ID\", \"Client Secret\", and a \"Tenant ID\". The \"Tenant ID\" is some what interchangable with the \"Team ID\" and can be acquired through the External Tenant API call."
   ]
  },
  {
   "cell_type": "code",
   "execution_count": null,
   "metadata": {},
   "outputs": [],
   "source": [
    "# Enter information. tenant ID is optional and can found using the an API call.\n",
    "client_id = ''\n",
    "client_secret = ''\n",
    "tenantId = ''"
   ]
  },
  {
   "cell_type": "markdown",
   "metadata": {},
   "source": [
    "### Initialize Vald API Class Function  \n",
    "The class functions as a wrapper for the External Tenant and External Profile API calls."
   ]
  },
  {
   "cell_type": "code",
   "execution_count": null,
   "metadata": {},
   "outputs": [],
   "source": [
    "vald = vau.vald_api(client_id,client_secret,tenant_id=tenantId)"
   ]
  },
  {
   "cell_type": "markdown",
   "metadata": {},
   "source": [
    "### Step 1 - Get Token\n",
    "\"get_token()\" should always be your first api call as this gives you a temparoray access key to be used for all future calls"
   ]
  },
  {
   "cell_type": "code",
   "execution_count": null,
   "metadata": {},
   "outputs": [],
   "source": [
    "vald.get_token()"
   ]
  },
  {
   "cell_type": "markdown",
   "metadata": {},
   "source": [
    "#### OPTIONAL - \"get_all_tenants()\" or \"get_tenant_info()\"\n",
    "Use \"get_all_tenants()\" to return a dictionary with all tenants.\n",
    "Use \"get_tenant_info()\" to return a dictionary with additional inforamtion about specific tenant."
   ]
  },
  {
   "cell_type": "code",
   "execution_count": null,
   "metadata": {},
   "outputs": [],
   "source": [
    "vald.get_all_tenants()\n",
    "vald.tenants"
   ]
  },
  {
   "cell_type": "code",
   "execution_count": null,
   "metadata": {},
   "outputs": [],
   "source": [
    "# If not initializing class function with \"tenant ID\" then enter \n",
    "# tenant_id here, using commented example.\n",
    "# vald.get_tenant_info(tenant_id=vald.tenants[0]['id'])\n",
    "\n",
    "# If initialized class function with \"Tenant ID\" then use the following.\n",
    "vald.get_tenant_info()\n",
    "vald.tenant_info"
   ]
  },
  {
   "cell_type": "markdown",
   "metadata": {},
   "source": [
    "### Step 2 - Get information on the categories and groups\n",
    "Using the specified \"Tenant ID\", get information on the categories and groups for the \"Tenant ID\"."
   ]
  },
  {
   "cell_type": "code",
   "execution_count": null,
   "metadata": {},
   "outputs": [],
   "source": [
    "# Generated dataframe containing ID and name of each category\n",
    "vald.get_tenant_categories()\n",
    "vald.categories_df"
   ]
  },
  {
   "cell_type": "code",
   "execution_count": null,
   "metadata": {},
   "outputs": [],
   "source": [
    "# Generated dataframe of groups ID, name, and category ID. \n",
    "vald.get_tenant_groups()\n",
    "vald.groups_df.head()"
   ]
  },
  {
   "cell_type": "markdown",
   "metadata": {},
   "source": [
    "### Step 3 - Get all profiles in a specific group.\n",
    "Use \"get_group_profiles()\" to generate dataframe of all athlete profiles in a given group based on the category and group dataframe. It is important to generate both the group and category dateframes as both of these will used to identify the correct IDs."
   ]
  },
  {
   "cell_type": "code",
   "execution_count": null,
   "metadata": {},
   "outputs": [],
   "source": [
    "# category_name is used to get the category ID which is used to get the correct group ID.\n",
    "# This insures that when there are groups' with the same name in different categories, \n",
    "# the correct group ID is found.\n",
    "\n",
    "# Replace 'Baseball' (group name) with desired value.\n",
    "vald.get_group_profiles('Baseball',category_name='Team')\n",
    "vald.profile_df.head()"
   ]
  },
  {
   "cell_type": "markdown",
   "metadata": {},
   "source": [
    "# Force Decks API Call\n",
    "After gathering the tenant ID and profile IDs we can use this information to pull force decks results."
   ]
  },
  {
   "cell_type": "code",
   "execution_count": null,
   "metadata": {},
   "outputs": [],
   "source": [
    "# Initialize Force Decks class function with tenant ID and header from Vald class function.\n",
    "forceDecks = vfda.forceDecks_api(vald.tenant_id,vald.header)"
   ]
  },
  {
   "cell_type": "markdown",
   "metadata": {},
   "source": [
    "### Step 1 - Get Test Info\n",
    "Using \"get_tests_info()\", you must include a date from which you would like get all tests since. You can also include a profile ID to filter on."
   ]
  },
  {
   "cell_type": "code",
   "execution_count": null,
   "metadata": {},
   "outputs": [],
   "source": [
    "date = '30/08/2024' # date must be in \"dd/mm/yyyy\" format\n",
    "profileID = vald.profile_df.loc[15,'profileId'] # pull profile ID from Vald class funciton\n",
    "\n",
    "forceDecks.get_tests_info(date,profile_id=profileID)"
   ]
  },
  {
   "cell_type": "code",
   "execution_count": null,
   "metadata": {},
   "outputs": [],
   "source": [
    "forceDecks.tests_df.head()"
   ]
  },
  {
   "cell_type": "markdown",
   "metadata": {},
   "source": [
    "### Step 2 - Get rep results from test\n",
    "Using \"get_test_results()\", a test ID is used to pull the results for each rep within a denoted test. The resulting dataframe contains a row for each result from each rep."
   ]
  },
  {
   "cell_type": "code",
   "execution_count": null,
   "metadata": {},
   "outputs": [],
   "source": [
    "testID = forceDecks.tests_df.loc[0,'testId']\n",
    "forceDecks.get_test_results(testID)\n",
    "forceDecks.results_df.head()"
   ]
  },
  {
   "cell_type": "markdown",
   "metadata": {},
   "source": [
    "### Step 3 - Get the force trace for a given test\n",
    "Using \"get_force_trace()\" will return the force trace in a dataframe for a given test ID."
   ]
  },
  {
   "cell_type": "code",
   "execution_count": null,
   "metadata": {},
   "outputs": [],
   "source": [
    "forceDecks.get_force_trace(testID)\n",
    "forceDecks.raw_df.head()"
   ]
  }
 ],
 "metadata": {
  "kernelspec": {
   "display_name": "vald",
   "language": "python",
   "name": "python3"
  },
  "language_info": {
   "codemirror_mode": {
    "name": "ipython",
    "version": 3
   },
   "file_extension": ".py",
   "mimetype": "text/x-python",
   "name": "python",
   "nbconvert_exporter": "python",
   "pygments_lexer": "ipython3",
   "version": "3.12.5"
  }
 },
 "nbformat": 4,
 "nbformat_minor": 2
}
